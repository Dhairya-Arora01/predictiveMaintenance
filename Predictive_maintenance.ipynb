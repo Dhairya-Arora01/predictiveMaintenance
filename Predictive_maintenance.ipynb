{
  "nbformat": 4,
  "nbformat_minor": 0,
  "metadata": {
    "colab": {
      "provenance": [],
      "authorship_tag": "ABX9TyPN4Gg1cx86T1YQw9bTtuqd",
      "include_colab_link": true
    },
    "kernelspec": {
      "name": "python3",
      "display_name": "Python 3"
    },
    "language_info": {
      "name": "python"
    }
  },
  "cells": [
    {
      "cell_type": "markdown",
      "metadata": {
        "id": "view-in-github",
        "colab_type": "text"
      },
      "source": [
        "<a href=\"https://colab.research.google.com/github/Dhairya-Arora01/predictiveMaintenance/blob/main/Predictive_maintenance.ipynb\" target=\"_parent\"><img src=\"https://colab.research.google.com/assets/colab-badge.svg\" alt=\"Open In Colab\"/></a>"
      ]
    },
    {
      "cell_type": "code",
      "execution_count": 1,
      "metadata": {
        "colab": {
          "base_uri": "https://localhost:8080/"
        },
        "id": "1FXKmC8OcgwR",
        "outputId": "27c55e4c-c818-419f-8239-2663d3ad2367"
      },
      "outputs": [
        {
          "output_type": "stream",
          "name": "stdout",
          "text": [
            "Mounted at /content/drive\n"
          ]
        }
      ],
      "source": [
        "from google.colab import drive\n",
        "drive.mount('/content/drive')"
      ]
    },
    {
      "cell_type": "code",
      "source": [
        "import zipfile\n",
        "zipPath = 'drive/MyDrive/CMAPSSData.zip'\n",
        "\n",
        "with zipfile.ZipFile(zipPath, 'r') as zipRef:\n",
        "  zipRef.extractall()"
      ],
      "metadata": {
        "id": "jNgnNVSPc1rC"
      },
      "execution_count": 3,
      "outputs": []
    }
  ]
}